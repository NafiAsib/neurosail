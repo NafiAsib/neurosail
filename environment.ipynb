{
 "cells": [
  {
   "attachments": {},
   "cell_type": "markdown",
   "id": "2d8cb1b5",
   "metadata": {},
   "source": [
    "## environment setup\n",
    "\n",
    "This notebook follows the guideline from [this repository](https://github.com/jeffheaton/t81_558_deep_learning/blob/master/install/tensorflow-install-mac-metal-jan-2023.ipynb)\n",
    "\n",
    "**Steps:**\n",
    "\n",
    "- Install `miniconda` offical package\n",
    "- Install `xcode`\n",
    "- `conda install -y jupyter`\n",
    "- `conda deactivate`\n",
    "- `conda env create -f tensorflow-apple-metal.yml -n tensorflow`\n",
    "- `conda activate tensorflow`\n",
    "- `python -m ipykernel install --user --name tensorflow --display-name \"Python 3.10 (tensorflow)\"`"
   ]
  },
  {
   "attachments": {},
   "cell_type": "markdown",
   "id": "dba42b93",
   "metadata": {},
   "source": [
    "## test environment\n",
    "\n",
    "run `test_env.ipynb` notebook to test the environment."
   ]
  },
  {
   "attachments": {},
   "cell_type": "markdown",
   "id": "b8610299",
   "metadata": {},
   "source": [
    "## activate env\n",
    "\n",
    "`conda activate tflegacy`"
   ]
  },
  {
   "attachments": {},
   "cell_type": "markdown",
   "id": "20b636d6",
   "metadata": {},
   "source": [
    "## Theming\n",
    "\n",
    "```bash\n",
    "pip install jupyterthemes\n",
    "jt -l\n",
    "jt -t onedork -fs 95 -altp -tfs 11 -nfs 115 -cellw 88% -T\n",
    "```\n",
    "\n",
    "- [Jupyter Themes](https://github.com/dunovank/jupyter-themes)"
   ]
  }
 ],
 "metadata": {
  "kernelspec": {
   "display_name": "Python 3.10 (tensorflow)",
   "language": "python",
   "name": "tflegacy"
  },
  "language_info": {
   "codemirror_mode": {
    "name": "ipython",
    "version": 3
   },
   "file_extension": ".py",
   "mimetype": "text/x-python",
   "name": "python",
   "nbconvert_exporter": "python",
   "pygments_lexer": "ipython3",
   "version": "3.10.11"
  }
 },
 "nbformat": 4,
 "nbformat_minor": 5
}
